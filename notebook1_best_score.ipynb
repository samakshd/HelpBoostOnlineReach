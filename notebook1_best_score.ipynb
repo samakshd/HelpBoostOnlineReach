{
  "nbformat": 4,
  "nbformat_minor": 0,
  "metadata": {
    "colab": {
      "name": "HelpBoostOnlineReach.ipynb",
      "provenance": [],
      "collapsed_sections": []
    },
    "kernelspec": {
      "display_name": "Python 3",
      "name": "python3"
    },
    "language_info": {
      "name": "python"
    }
  },
  "cells": [
    {
      "cell_type": "markdown",
      "metadata": {
        "id": "SRmheQ6CKRls"
      },
      "source": [
        "##Importing Required Standard Libraries"
      ]
    },
    {
      "cell_type": "code",
      "metadata": {
        "id": "ko1Xol6XLd5J"
      },
      "source": [
        "import numpy as np\n",
        "import pandas as pd\n",
        "import matplotlib.pyplot as plt\n",
        "import seaborn as sns\n",
        "from sklearn.model_selection import cross_val_score\n",
        "from sklearn.metrics import roc_auc_score,roc_curve,f1_score\n",
        "from sklearn.model_selection import StratifiedKFold,KFold\n",
        "from sklearn.preprocessing import StandardScaler, MinMaxScaler\n",
        "from sklearn.linear_model import LogisticRegression\n",
        "from sklearn.naive_bayes import MultinomialNB, GaussianNB"
      ],
      "execution_count": 1,
      "outputs": []
    },
    {
      "cell_type": "code",
      "metadata": {
        "id": "1BSqbIE8N_Dx"
      },
      "source": [
        "main_train_df = pd.read_csv(\"/content/drive/MyDrive/ML/ML_Project/datasets/train_data.csv\")\n",
        "main_test_df = pd.read_csv(\"/content/drive/MyDrive/ML/ML_Project/datasets/test_data.csv\")"
      ],
      "execution_count": 4,
      "outputs": []
    },
    {
      "cell_type": "code",
      "metadata": {
        "id": "7Z7a6tiXUAQd"
      },
      "source": [
        "working_df = main_train_df.copy()"
      ],
      "execution_count": 5,
      "outputs": []
    },
    {
      "cell_type": "code",
      "metadata": {
        "colab": {
          "base_uri": "https://localhost:8080/",
          "height": 774
        },
        "id": "ZERR65_sUDGb",
        "outputId": "5a797643-7d1c-469b-a259-185aac750cae"
      },
      "source": [
        "working_df.head(10)"
      ],
      "execution_count": 6,
      "outputs": [
        {
          "output_type": "execute_result",
          "data": {
            "text/html": [
              "\n",
              "  <div id=\"df-b3cb3b11-3ae7-4ca9-acc9-f1144b90b189\">\n",
              "    <div class=\"colab-df-container\">\n",
              "      <div>\n",
              "<style scoped>\n",
              "    .dataframe tbody tr th:only-of-type {\n",
              "        vertical-align: middle;\n",
              "    }\n",
              "\n",
              "    .dataframe tbody tr th {\n",
              "        vertical-align: top;\n",
              "    }\n",
              "\n",
              "    .dataframe thead th {\n",
              "        text-align: right;\n",
              "    }\n",
              "</style>\n",
              "<table border=\"1\" class=\"dataframe\">\n",
              "  <thead>\n",
              "    <tr style=\"text-align: right;\">\n",
              "      <th></th>\n",
              "      <th>url</th>\n",
              "      <th>webpageDescription</th>\n",
              "      <th>alchemy_category</th>\n",
              "      <th>alchemy_category_score</th>\n",
              "      <th>avgLinkWordLength</th>\n",
              "      <th>AvglinkWithOneCommonWord</th>\n",
              "      <th>AvglinkWithTwoCommonWord</th>\n",
              "      <th>AvglinkWithThreeCommonWord</th>\n",
              "      <th>AvglinkWithFourCommonWord</th>\n",
              "      <th>redundancyMeasure</th>\n",
              "      <th>embedRatio</th>\n",
              "      <th>framebased</th>\n",
              "      <th>frameTagRatio</th>\n",
              "      <th>domainLink</th>\n",
              "      <th>tagRatio</th>\n",
              "      <th>imageTagRatio</th>\n",
              "      <th>isNews</th>\n",
              "      <th>lengthyDomain</th>\n",
              "      <th>hyperlinkToAllWordsRatio</th>\n",
              "      <th>isFrontPageNews</th>\n",
              "      <th>alphanumCharCount</th>\n",
              "      <th>linksCount</th>\n",
              "      <th>wordCount</th>\n",
              "      <th>parametrizedLinkRatio</th>\n",
              "      <th>spellingErrorsRatio</th>\n",
              "      <th>label</th>\n",
              "      <th>id</th>\n",
              "    </tr>\n",
              "  </thead>\n",
              "  <tbody>\n",
              "    <tr>\n",
              "      <th>0</th>\n",
              "      <td>http://www.polyvore.com/cgi/home?id=1389651</td>\n",
              "      <td>{\"title\":\"Join Polyvore and follow the latest ...</td>\n",
              "      <td>?</td>\n",
              "      <td>?</td>\n",
              "      <td>1.916667</td>\n",
              "      <td>0.047619</td>\n",
              "      <td>0.007937</td>\n",
              "      <td>0.000000</td>\n",
              "      <td>0.000000</td>\n",
              "      <td>0.803797</td>\n",
              "      <td>0.0</td>\n",
              "      <td>0</td>\n",
              "      <td>0.027778</td>\n",
              "      <td>0</td>\n",
              "      <td>0.203161</td>\n",
              "      <td>3.120000</td>\n",
              "      <td>?</td>\n",
              "      <td>0</td>\n",
              "      <td>34</td>\n",
              "      <td>0</td>\n",
              "      <td>682</td>\n",
              "      <td>126</td>\n",
              "      <td>1</td>\n",
              "      <td>0.531746</td>\n",
              "      <td>0.142857</td>\n",
              "      <td>1</td>\n",
              "      <td>3711</td>\n",
              "    </tr>\n",
              "    <tr>\n",
              "      <th>1</th>\n",
              "      <td>http://www.youtube.com/watch?v=ippMPPu6gh4</td>\n",
              "      <td>{\"body\":\"Speed Air Man--David Belle david bell...</td>\n",
              "      <td>?</td>\n",
              "      <td>?</td>\n",
              "      <td>1.257576</td>\n",
              "      <td>0.141026</td>\n",
              "      <td>0.000000</td>\n",
              "      <td>0.000000</td>\n",
              "      <td>0.000000</td>\n",
              "      <td>1.142857</td>\n",
              "      <td>0.1</td>\n",
              "      <td>0</td>\n",
              "      <td>0.015086</td>\n",
              "      <td>0</td>\n",
              "      <td>0.168189</td>\n",
              "      <td>13.100000</td>\n",
              "      <td>?</td>\n",
              "      <td>0</td>\n",
              "      <td>12</td>\n",
              "      <td>0</td>\n",
              "      <td>3008</td>\n",
              "      <td>78</td>\n",
              "      <td>1</td>\n",
              "      <td>0.628205</td>\n",
              "      <td>0.000000</td>\n",
              "      <td>1</td>\n",
              "      <td>7222</td>\n",
              "    </tr>\n",
              "    <tr>\n",
              "      <th>2</th>\n",
              "      <td>http://www.musingsofahousewife.com/2011/03/tri...</td>\n",
              "      <td>{\"title\":\"Chicken Gruyere Recipe \",\"body\":\"Chi...</td>\n",
              "      <td>science_technology</td>\n",
              "      <td>0.386685</td>\n",
              "      <td>2.024000</td>\n",
              "      <td>0.630350</td>\n",
              "      <td>0.284047</td>\n",
              "      <td>0.233463</td>\n",
              "      <td>0.202335</td>\n",
              "      <td>0.443409</td>\n",
              "      <td>0.0</td>\n",
              "      <td>0</td>\n",
              "      <td>0.033935</td>\n",
              "      <td>0</td>\n",
              "      <td>0.192652</td>\n",
              "      <td>0.126582</td>\n",
              "      <td>1</td>\n",
              "      <td>1</td>\n",
              "      <td>17</td>\n",
              "      <td>0</td>\n",
              "      <td>11008</td>\n",
              "      <td>257</td>\n",
              "      <td>5</td>\n",
              "      <td>0.466926</td>\n",
              "      <td>0.062500</td>\n",
              "      <td>1</td>\n",
              "      <td>3964</td>\n",
              "    </tr>\n",
              "    <tr>\n",
              "      <th>3</th>\n",
              "      <td>http://www.thelittleteochew.com/2011/07/ikan-b...</td>\n",
              "      <td>{\"title\":\"Ikan Bilis With Tempeh Groundnuts \",...</td>\n",
              "      <td>recreation</td>\n",
              "      <td>0.475039</td>\n",
              "      <td>1.665254</td>\n",
              "      <td>0.419580</td>\n",
              "      <td>0.199301</td>\n",
              "      <td>0.097902</td>\n",
              "      <td>0.066434</td>\n",
              "      <td>0.472649</td>\n",
              "      <td>0.0</td>\n",
              "      <td>0</td>\n",
              "      <td>0.036530</td>\n",
              "      <td>0</td>\n",
              "      <td>0.198000</td>\n",
              "      <td>0.135593</td>\n",
              "      <td>1</td>\n",
              "      <td>1</td>\n",
              "      <td>28</td>\n",
              "      <td>0</td>\n",
              "      <td>4585</td>\n",
              "      <td>286</td>\n",
              "      <td>5</td>\n",
              "      <td>0.244755</td>\n",
              "      <td>0.085868</td>\n",
              "      <td>1</td>\n",
              "      <td>3697</td>\n",
              "    </tr>\n",
              "    <tr>\n",
              "      <th>4</th>\n",
              "      <td>http://recipes.wuzzle.org/index.php/72</td>\n",
              "      <td>{\"url\":\"recipes wuzzle org index php 72\",\"titl...</td>\n",
              "      <td>computer_internet</td>\n",
              "      <td>0.535009</td>\n",
              "      <td>0.181818</td>\n",
              "      <td>0.036364</td>\n",
              "      <td>0.000000</td>\n",
              "      <td>0.000000</td>\n",
              "      <td>0.000000</td>\n",
              "      <td>0.292614</td>\n",
              "      <td>0.0</td>\n",
              "      <td>0</td>\n",
              "      <td>0.015152</td>\n",
              "      <td>0</td>\n",
              "      <td>0.241564</td>\n",
              "      <td>0.054217</td>\n",
              "      <td>?</td>\n",
              "      <td>0</td>\n",
              "      <td>3</td>\n",
              "      <td>0</td>\n",
              "      <td>1745</td>\n",
              "      <td>55</td>\n",
              "      <td>1</td>\n",
              "      <td>0.072727</td>\n",
              "      <td>0.115044</td>\n",
              "      <td>1</td>\n",
              "      <td>4321</td>\n",
              "    </tr>\n",
              "    <tr>\n",
              "      <th>5</th>\n",
              "      <td>http://www.sleepdisordersguide.com/blog/good-n...</td>\n",
              "      <td>{\"title\":\"Discover The Threats Of Bad Sleeping...</td>\n",
              "      <td>health</td>\n",
              "      <td>0.953935</td>\n",
              "      <td>3.697917</td>\n",
              "      <td>0.848485</td>\n",
              "      <td>0.636364</td>\n",
              "      <td>0.191919</td>\n",
              "      <td>0.101010</td>\n",
              "      <td>0.382585</td>\n",
              "      <td>0.0</td>\n",
              "      <td>0</td>\n",
              "      <td>0.022449</td>\n",
              "      <td>0</td>\n",
              "      <td>0.254480</td>\n",
              "      <td>0.003398</td>\n",
              "      <td>1</td>\n",
              "      <td>1</td>\n",
              "      <td>23</td>\n",
              "      <td>0</td>\n",
              "      <td>6061</td>\n",
              "      <td>99</td>\n",
              "      <td>16</td>\n",
              "      <td>0.010101</td>\n",
              "      <td>0.105439</td>\n",
              "      <td>1</td>\n",
              "      <td>6940</td>\n",
              "    </tr>\n",
              "    <tr>\n",
              "      <th>6</th>\n",
              "      <td>http://www.insidershealth.com/natural_cure/poi...</td>\n",
              "      <td>{\"title\":\"InsidersHealth com insidershealth.co...</td>\n",
              "      <td>health</td>\n",
              "      <td>0.893828</td>\n",
              "      <td>1.691781</td>\n",
              "      <td>0.469799</td>\n",
              "      <td>0.147651</td>\n",
              "      <td>0.026846</td>\n",
              "      <td>0.006711</td>\n",
              "      <td>0.522134</td>\n",
              "      <td>0.0</td>\n",
              "      <td>0</td>\n",
              "      <td>0.026190</td>\n",
              "      <td>0</td>\n",
              "      <td>0.264697</td>\n",
              "      <td>0.045455</td>\n",
              "      <td>?</td>\n",
              "      <td>0</td>\n",
              "      <td>57</td>\n",
              "      <td>0</td>\n",
              "      <td>961</td>\n",
              "      <td>149</td>\n",
              "      <td>4</td>\n",
              "      <td>0.006711</td>\n",
              "      <td>0.086957</td>\n",
              "      <td>1</td>\n",
              "      <td>5416</td>\n",
              "    </tr>\n",
              "    <tr>\n",
              "      <th>7</th>\n",
              "      <td>http://yawoot.com/post/2122</td>\n",
              "      <td>{\"title\":\"Well the world is made of peanut but...</td>\n",
              "      <td>recreation</td>\n",
              "      <td>0.550131</td>\n",
              "      <td>1.170213</td>\n",
              "      <td>0.634921</td>\n",
              "      <td>0.000000</td>\n",
              "      <td>0.000000</td>\n",
              "      <td>0.000000</td>\n",
              "      <td>0.224906</td>\n",
              "      <td>0.0</td>\n",
              "      <td>0</td>\n",
              "      <td>0.040248</td>\n",
              "      <td>0</td>\n",
              "      <td>0.181396</td>\n",
              "      <td>0.011561</td>\n",
              "      <td>?</td>\n",
              "      <td>0</td>\n",
              "      <td>11</td>\n",
              "      <td>0</td>\n",
              "      <td>1865</td>\n",
              "      <td>63</td>\n",
              "      <td>1</td>\n",
              "      <td>0.031746</td>\n",
              "      <td>0.123209</td>\n",
              "      <td>0</td>\n",
              "      <td>7349</td>\n",
              "    </tr>\n",
              "    <tr>\n",
              "      <th>8</th>\n",
              "      <td>http://www.bbc.co.uk/news/technology-22516169</td>\n",
              "      <td>{\"url\":\"bbc co news technology 22516169\",\"titl...</td>\n",
              "      <td>computer_internet</td>\n",
              "      <td>0.537425</td>\n",
              "      <td>3.466667</td>\n",
              "      <td>0.453704</td>\n",
              "      <td>0.194444</td>\n",
              "      <td>0.138889</td>\n",
              "      <td>0.129630</td>\n",
              "      <td>0.604119</td>\n",
              "      <td>0.0</td>\n",
              "      <td>0</td>\n",
              "      <td>0.111582</td>\n",
              "      <td>0</td>\n",
              "      <td>0.234397</td>\n",
              "      <td>0.708861</td>\n",
              "      <td>1</td>\n",
              "      <td>1</td>\n",
              "      <td>64</td>\n",
              "      <td>0</td>\n",
              "      <td>977</td>\n",
              "      <td>108</td>\n",
              "      <td>2</td>\n",
              "      <td>0.064815</td>\n",
              "      <td>0.085106</td>\n",
              "      <td>0</td>\n",
              "      <td>6727</td>\n",
              "    </tr>\n",
              "    <tr>\n",
              "      <th>9</th>\n",
              "      <td>http://fxcuisine.com/default.asp?Display=163&amp;r...</td>\n",
              "      <td>{\"title\":\"Sicilian Tangerine Sorbet \",\"body\":\"...</td>\n",
              "      <td>computer_internet</td>\n",
              "      <td>0.287329</td>\n",
              "      <td>0.941176</td>\n",
              "      <td>0.117647</td>\n",
              "      <td>0.039216</td>\n",
              "      <td>0.000000</td>\n",
              "      <td>0.000000</td>\n",
              "      <td>0.487411</td>\n",
              "      <td>0.0</td>\n",
              "      <td>0</td>\n",
              "      <td>0.088785</td>\n",
              "      <td>0</td>\n",
              "      <td>0.303562</td>\n",
              "      <td>0.034483</td>\n",
              "      <td>1</td>\n",
              "      <td>0</td>\n",
              "      <td>7</td>\n",
              "      <td>0</td>\n",
              "      <td>2625</td>\n",
              "      <td>51</td>\n",
              "      <td>5</td>\n",
              "      <td>0.705882</td>\n",
              "      <td>0.094643</td>\n",
              "      <td>1</td>\n",
              "      <td>5155</td>\n",
              "    </tr>\n",
              "  </tbody>\n",
              "</table>\n",
              "</div>\n",
              "      <button class=\"colab-df-convert\" onclick=\"convertToInteractive('df-b3cb3b11-3ae7-4ca9-acc9-f1144b90b189')\"\n",
              "              title=\"Convert this dataframe to an interactive table.\"\n",
              "              style=\"display:none;\">\n",
              "        \n",
              "  <svg xmlns=\"http://www.w3.org/2000/svg\" height=\"24px\"viewBox=\"0 0 24 24\"\n",
              "       width=\"24px\">\n",
              "    <path d=\"M0 0h24v24H0V0z\" fill=\"none\"/>\n",
              "    <path d=\"M18.56 5.44l.94 2.06.94-2.06 2.06-.94-2.06-.94-.94-2.06-.94 2.06-2.06.94zm-11 1L8.5 8.5l.94-2.06 2.06-.94-2.06-.94L8.5 2.5l-.94 2.06-2.06.94zm10 10l.94 2.06.94-2.06 2.06-.94-2.06-.94-.94-2.06-.94 2.06-2.06.94z\"/><path d=\"M17.41 7.96l-1.37-1.37c-.4-.4-.92-.59-1.43-.59-.52 0-1.04.2-1.43.59L10.3 9.45l-7.72 7.72c-.78.78-.78 2.05 0 2.83L4 21.41c.39.39.9.59 1.41.59.51 0 1.02-.2 1.41-.59l7.78-7.78 2.81-2.81c.8-.78.8-2.07 0-2.86zM5.41 20L4 18.59l7.72-7.72 1.47 1.35L5.41 20z\"/>\n",
              "  </svg>\n",
              "      </button>\n",
              "      \n",
              "  <style>\n",
              "    .colab-df-container {\n",
              "      display:flex;\n",
              "      flex-wrap:wrap;\n",
              "      gap: 12px;\n",
              "    }\n",
              "\n",
              "    .colab-df-convert {\n",
              "      background-color: #E8F0FE;\n",
              "      border: none;\n",
              "      border-radius: 50%;\n",
              "      cursor: pointer;\n",
              "      display: none;\n",
              "      fill: #1967D2;\n",
              "      height: 32px;\n",
              "      padding: 0 0 0 0;\n",
              "      width: 32px;\n",
              "    }\n",
              "\n",
              "    .colab-df-convert:hover {\n",
              "      background-color: #E2EBFA;\n",
              "      box-shadow: 0px 1px 2px rgba(60, 64, 67, 0.3), 0px 1px 3px 1px rgba(60, 64, 67, 0.15);\n",
              "      fill: #174EA6;\n",
              "    }\n",
              "\n",
              "    [theme=dark] .colab-df-convert {\n",
              "      background-color: #3B4455;\n",
              "      fill: #D2E3FC;\n",
              "    }\n",
              "\n",
              "    [theme=dark] .colab-df-convert:hover {\n",
              "      background-color: #434B5C;\n",
              "      box-shadow: 0px 1px 3px 1px rgba(0, 0, 0, 0.15);\n",
              "      filter: drop-shadow(0px 1px 2px rgba(0, 0, 0, 0.3));\n",
              "      fill: #FFFFFF;\n",
              "    }\n",
              "  </style>\n",
              "\n",
              "      <script>\n",
              "        const buttonEl =\n",
              "          document.querySelector('#df-b3cb3b11-3ae7-4ca9-acc9-f1144b90b189 button.colab-df-convert');\n",
              "        buttonEl.style.display =\n",
              "          google.colab.kernel.accessAllowed ? 'block' : 'none';\n",
              "\n",
              "        async function convertToInteractive(key) {\n",
              "          const element = document.querySelector('#df-b3cb3b11-3ae7-4ca9-acc9-f1144b90b189');\n",
              "          const dataTable =\n",
              "            await google.colab.kernel.invokeFunction('convertToInteractive',\n",
              "                                                     [key], {});\n",
              "          if (!dataTable) return;\n",
              "\n",
              "          const docLinkHtml = 'Like what you see? Visit the ' +\n",
              "            '<a target=\"_blank\" href=https://colab.research.google.com/notebooks/data_table.ipynb>data table notebook</a>'\n",
              "            + ' to learn more about interactive tables.';\n",
              "          element.innerHTML = '';\n",
              "          dataTable['output_type'] = 'display_data';\n",
              "          await google.colab.output.renderOutput(dataTable, element);\n",
              "          const docLink = document.createElement('div');\n",
              "          docLink.innerHTML = docLinkHtml;\n",
              "          element.appendChild(docLink);\n",
              "        }\n",
              "      </script>\n",
              "    </div>\n",
              "  </div>\n",
              "  "
            ],
            "text/plain": [
              "                                                 url  ...    id\n",
              "0        http://www.polyvore.com/cgi/home?id=1389651  ...  3711\n",
              "1         http://www.youtube.com/watch?v=ippMPPu6gh4  ...  7222\n",
              "2  http://www.musingsofahousewife.com/2011/03/tri...  ...  3964\n",
              "3  http://www.thelittleteochew.com/2011/07/ikan-b...  ...  3697\n",
              "4             http://recipes.wuzzle.org/index.php/72  ...  4321\n",
              "5  http://www.sleepdisordersguide.com/blog/good-n...  ...  6940\n",
              "6  http://www.insidershealth.com/natural_cure/poi...  ...  5416\n",
              "7                        http://yawoot.com/post/2122  ...  7349\n",
              "8      http://www.bbc.co.uk/news/technology-22516169  ...  6727\n",
              "9  http://fxcuisine.com/default.asp?Display=163&r...  ...  5155\n",
              "\n",
              "[10 rows x 27 columns]"
            ]
          },
          "metadata": {},
          "execution_count": 6
        }
      ]
    },
    {
      "cell_type": "code",
      "metadata": {
        "colab": {
          "base_uri": "https://localhost:8080/",
          "height": 364
        },
        "id": "wcVeMDqgU5yn",
        "outputId": "f392b802-ff3f-417a-bd58-f922f8480272"
      },
      "source": [
        "working_df.describe()"
      ],
      "execution_count": 7,
      "outputs": [
        {
          "output_type": "execute_result",
          "data": {
            "text/html": [
              "\n",
              "  <div id=\"df-04e69664-764b-45ee-bd17-77f4526ef48a\">\n",
              "    <div class=\"colab-df-container\">\n",
              "      <div>\n",
              "<style scoped>\n",
              "    .dataframe tbody tr th:only-of-type {\n",
              "        vertical-align: middle;\n",
              "    }\n",
              "\n",
              "    .dataframe tbody tr th {\n",
              "        vertical-align: top;\n",
              "    }\n",
              "\n",
              "    .dataframe thead th {\n",
              "        text-align: right;\n",
              "    }\n",
              "</style>\n",
              "<table border=\"1\" class=\"dataframe\">\n",
              "  <thead>\n",
              "    <tr style=\"text-align: right;\">\n",
              "      <th></th>\n",
              "      <th>avgLinkWordLength</th>\n",
              "      <th>AvglinkWithOneCommonWord</th>\n",
              "      <th>AvglinkWithTwoCommonWord</th>\n",
              "      <th>AvglinkWithThreeCommonWord</th>\n",
              "      <th>AvglinkWithFourCommonWord</th>\n",
              "      <th>redundancyMeasure</th>\n",
              "      <th>embedRatio</th>\n",
              "      <th>framebased</th>\n",
              "      <th>frameTagRatio</th>\n",
              "      <th>domainLink</th>\n",
              "      <th>tagRatio</th>\n",
              "      <th>imageTagRatio</th>\n",
              "      <th>lengthyDomain</th>\n",
              "      <th>hyperlinkToAllWordsRatio</th>\n",
              "      <th>alphanumCharCount</th>\n",
              "      <th>linksCount</th>\n",
              "      <th>wordCount</th>\n",
              "      <th>parametrizedLinkRatio</th>\n",
              "      <th>spellingErrorsRatio</th>\n",
              "      <th>label</th>\n",
              "      <th>id</th>\n",
              "    </tr>\n",
              "  </thead>\n",
              "  <tbody>\n",
              "    <tr>\n",
              "      <th>count</th>\n",
              "      <td>5916.000000</td>\n",
              "      <td>5916.000000</td>\n",
              "      <td>5916.000000</td>\n",
              "      <td>5916.000000</td>\n",
              "      <td>5916.000000</td>\n",
              "      <td>5916.000000</td>\n",
              "      <td>5916.000000</td>\n",
              "      <td>5916.0</td>\n",
              "      <td>5916.000000</td>\n",
              "      <td>5916.000000</td>\n",
              "      <td>5916.000000</td>\n",
              "      <td>5916.000000</td>\n",
              "      <td>5916.000000</td>\n",
              "      <td>5916.000000</td>\n",
              "      <td>5916.000000</td>\n",
              "      <td>5916.000000</td>\n",
              "      <td>5916.000000</td>\n",
              "      <td>5916.000000</td>\n",
              "      <td>5916.000000</td>\n",
              "      <td>5916.000000</td>\n",
              "      <td>5916.000000</td>\n",
              "    </tr>\n",
              "    <tr>\n",
              "      <th>mean</th>\n",
              "      <td>2.852545</td>\n",
              "      <td>0.469274</td>\n",
              "      <td>0.214425</td>\n",
              "      <td>0.092066</td>\n",
              "      <td>0.049570</td>\n",
              "      <td>2.298490</td>\n",
              "      <td>-0.106884</td>\n",
              "      <td>0.0</td>\n",
              "      <td>0.056298</td>\n",
              "      <td>0.019270</td>\n",
              "      <td>0.233858</td>\n",
              "      <td>0.255667</td>\n",
              "      <td>0.660412</td>\n",
              "      <td>30.086207</td>\n",
              "      <td>5704.955544</td>\n",
              "      <td>179.137086</td>\n",
              "      <td>4.954699</td>\n",
              "      <td>0.170699</td>\n",
              "      <td>0.100854</td>\n",
              "      <td>0.517241</td>\n",
              "      <td>3699.003888</td>\n",
              "    </tr>\n",
              "    <tr>\n",
              "      <th>std</th>\n",
              "      <td>9.559954</td>\n",
              "      <td>0.203990</td>\n",
              "      <td>0.147265</td>\n",
              "      <td>0.096179</td>\n",
              "      <td>0.073347</td>\n",
              "      <td>5.771091</td>\n",
              "      <td>0.310639</td>\n",
              "      <td>0.0</td>\n",
              "      <td>0.041516</td>\n",
              "      <td>0.137483</td>\n",
              "      <td>0.053073</td>\n",
              "      <td>1.438010</td>\n",
              "      <td>0.473609</td>\n",
              "      <td>20.500121</td>\n",
              "      <td>8814.892098</td>\n",
              "      <td>184.745134</td>\n",
              "      <td>3.229823</td>\n",
              "      <td>0.179872</td>\n",
              "      <td>0.077778</td>\n",
              "      <td>0.499745</td>\n",
              "      <td>2132.447652</td>\n",
              "    </tr>\n",
              "    <tr>\n",
              "      <th>min</th>\n",
              "      <td>0.000000</td>\n",
              "      <td>0.000000</td>\n",
              "      <td>0.000000</td>\n",
              "      <td>0.000000</td>\n",
              "      <td>0.000000</td>\n",
              "      <td>0.000000</td>\n",
              "      <td>-1.000000</td>\n",
              "      <td>0.0</td>\n",
              "      <td>0.000000</td>\n",
              "      <td>0.000000</td>\n",
              "      <td>0.045564</td>\n",
              "      <td>-1.000000</td>\n",
              "      <td>0.000000</td>\n",
              "      <td>0.000000</td>\n",
              "      <td>0.000000</td>\n",
              "      <td>1.000000</td>\n",
              "      <td>0.000000</td>\n",
              "      <td>0.000000</td>\n",
              "      <td>0.000000</td>\n",
              "      <td>0.000000</td>\n",
              "      <td>4.000000</td>\n",
              "    </tr>\n",
              "    <tr>\n",
              "      <th>25%</th>\n",
              "      <td>1.600000</td>\n",
              "      <td>0.342038</td>\n",
              "      <td>0.105682</td>\n",
              "      <td>0.022222</td>\n",
              "      <td>0.000000</td>\n",
              "      <td>0.442573</td>\n",
              "      <td>0.000000</td>\n",
              "      <td>0.0</td>\n",
              "      <td>0.028571</td>\n",
              "      <td>0.000000</td>\n",
              "      <td>0.200965</td>\n",
              "      <td>0.025726</td>\n",
              "      <td>0.000000</td>\n",
              "      <td>14.000000</td>\n",
              "      <td>1574.750000</td>\n",
              "      <td>82.000000</td>\n",
              "      <td>3.000000</td>\n",
              "      <td>0.040984</td>\n",
              "      <td>0.068235</td>\n",
              "      <td>0.000000</td>\n",
              "      <td>1860.750000</td>\n",
              "    </tr>\n",
              "    <tr>\n",
              "      <th>50%</th>\n",
              "      <td>2.086957</td>\n",
              "      <td>0.484084</td>\n",
              "      <td>0.202532</td>\n",
              "      <td>0.068909</td>\n",
              "      <td>0.022690</td>\n",
              "      <td>0.483416</td>\n",
              "      <td>0.000000</td>\n",
              "      <td>0.0</td>\n",
              "      <td>0.045606</td>\n",
              "      <td>0.000000</td>\n",
              "      <td>0.230278</td>\n",
              "      <td>0.083622</td>\n",
              "      <td>1.000000</td>\n",
              "      <td>25.000000</td>\n",
              "      <td>3484.000000</td>\n",
              "      <td>139.000000</td>\n",
              "      <td>5.000000</td>\n",
              "      <td>0.113347</td>\n",
              "      <td>0.089238</td>\n",
              "      <td>1.000000</td>\n",
              "      <td>3703.500000</td>\n",
              "    </tr>\n",
              "    <tr>\n",
              "      <th>75%</th>\n",
              "      <td>2.622778</td>\n",
              "      <td>0.616681</td>\n",
              "      <td>0.300000</td>\n",
              "      <td>0.132231</td>\n",
              "      <td>0.065990</td>\n",
              "      <td>0.577449</td>\n",
              "      <td>0.000000</td>\n",
              "      <td>0.0</td>\n",
              "      <td>0.073227</td>\n",
              "      <td>0.000000</td>\n",
              "      <td>0.260889</td>\n",
              "      <td>0.242456</td>\n",
              "      <td>1.000000</td>\n",
              "      <td>43.000000</td>\n",
              "      <td>6316.000000</td>\n",
              "      <td>222.000000</td>\n",
              "      <td>7.000000</td>\n",
              "      <td>0.238395</td>\n",
              "      <td>0.112486</td>\n",
              "      <td>1.000000</td>\n",
              "      <td>5539.250000</td>\n",
              "    </tr>\n",
              "    <tr>\n",
              "      <th>max</th>\n",
              "      <td>363.000000</td>\n",
              "      <td>1.000000</td>\n",
              "      <td>0.982906</td>\n",
              "      <td>0.980392</td>\n",
              "      <td>0.980392</td>\n",
              "      <td>21.000000</td>\n",
              "      <td>0.250000</td>\n",
              "      <td>0.0</td>\n",
              "      <td>0.444444</td>\n",
              "      <td>1.000000</td>\n",
              "      <td>0.716883</td>\n",
              "      <td>52.000000</td>\n",
              "      <td>1.000000</td>\n",
              "      <td>100.000000</td>\n",
              "      <td>207952.000000</td>\n",
              "      <td>4997.000000</td>\n",
              "      <td>22.000000</td>\n",
              "      <td>1.000000</td>\n",
              "      <td>1.000000</td>\n",
              "      <td>1.000000</td>\n",
              "      <td>7394.000000</td>\n",
              "    </tr>\n",
              "  </tbody>\n",
              "</table>\n",
              "</div>\n",
              "      <button class=\"colab-df-convert\" onclick=\"convertToInteractive('df-04e69664-764b-45ee-bd17-77f4526ef48a')\"\n",
              "              title=\"Convert this dataframe to an interactive table.\"\n",
              "              style=\"display:none;\">\n",
              "        \n",
              "  <svg xmlns=\"http://www.w3.org/2000/svg\" height=\"24px\"viewBox=\"0 0 24 24\"\n",
              "       width=\"24px\">\n",
              "    <path d=\"M0 0h24v24H0V0z\" fill=\"none\"/>\n",
              "    <path d=\"M18.56 5.44l.94 2.06.94-2.06 2.06-.94-2.06-.94-.94-2.06-.94 2.06-2.06.94zm-11 1L8.5 8.5l.94-2.06 2.06-.94-2.06-.94L8.5 2.5l-.94 2.06-2.06.94zm10 10l.94 2.06.94-2.06 2.06-.94-2.06-.94-.94-2.06-.94 2.06-2.06.94z\"/><path d=\"M17.41 7.96l-1.37-1.37c-.4-.4-.92-.59-1.43-.59-.52 0-1.04.2-1.43.59L10.3 9.45l-7.72 7.72c-.78.78-.78 2.05 0 2.83L4 21.41c.39.39.9.59 1.41.59.51 0 1.02-.2 1.41-.59l7.78-7.78 2.81-2.81c.8-.78.8-2.07 0-2.86zM5.41 20L4 18.59l7.72-7.72 1.47 1.35L5.41 20z\"/>\n",
              "  </svg>\n",
              "      </button>\n",
              "      \n",
              "  <style>\n",
              "    .colab-df-container {\n",
              "      display:flex;\n",
              "      flex-wrap:wrap;\n",
              "      gap: 12px;\n",
              "    }\n",
              "\n",
              "    .colab-df-convert {\n",
              "      background-color: #E8F0FE;\n",
              "      border: none;\n",
              "      border-radius: 50%;\n",
              "      cursor: pointer;\n",
              "      display: none;\n",
              "      fill: #1967D2;\n",
              "      height: 32px;\n",
              "      padding: 0 0 0 0;\n",
              "      width: 32px;\n",
              "    }\n",
              "\n",
              "    .colab-df-convert:hover {\n",
              "      background-color: #E2EBFA;\n",
              "      box-shadow: 0px 1px 2px rgba(60, 64, 67, 0.3), 0px 1px 3px 1px rgba(60, 64, 67, 0.15);\n",
              "      fill: #174EA6;\n",
              "    }\n",
              "\n",
              "    [theme=dark] .colab-df-convert {\n",
              "      background-color: #3B4455;\n",
              "      fill: #D2E3FC;\n",
              "    }\n",
              "\n",
              "    [theme=dark] .colab-df-convert:hover {\n",
              "      background-color: #434B5C;\n",
              "      box-shadow: 0px 1px 3px 1px rgba(0, 0, 0, 0.15);\n",
              "      filter: drop-shadow(0px 1px 2px rgba(0, 0, 0, 0.3));\n",
              "      fill: #FFFFFF;\n",
              "    }\n",
              "  </style>\n",
              "\n",
              "      <script>\n",
              "        const buttonEl =\n",
              "          document.querySelector('#df-04e69664-764b-45ee-bd17-77f4526ef48a button.colab-df-convert');\n",
              "        buttonEl.style.display =\n",
              "          google.colab.kernel.accessAllowed ? 'block' : 'none';\n",
              "\n",
              "        async function convertToInteractive(key) {\n",
              "          const element = document.querySelector('#df-04e69664-764b-45ee-bd17-77f4526ef48a');\n",
              "          const dataTable =\n",
              "            await google.colab.kernel.invokeFunction('convertToInteractive',\n",
              "                                                     [key], {});\n",
              "          if (!dataTable) return;\n",
              "\n",
              "          const docLinkHtml = 'Like what you see? Visit the ' +\n",
              "            '<a target=\"_blank\" href=https://colab.research.google.com/notebooks/data_table.ipynb>data table notebook</a>'\n",
              "            + ' to learn more about interactive tables.';\n",
              "          element.innerHTML = '';\n",
              "          dataTable['output_type'] = 'display_data';\n",
              "          await google.colab.output.renderOutput(dataTable, element);\n",
              "          const docLink = document.createElement('div');\n",
              "          docLink.innerHTML = docLinkHtml;\n",
              "          element.appendChild(docLink);\n",
              "        }\n",
              "      </script>\n",
              "    </div>\n",
              "  </div>\n",
              "  "
            ],
            "text/plain": [
              "       avgLinkWordLength  AvglinkWithOneCommonWord  ...        label           id\n",
              "count        5916.000000               5916.000000  ...  5916.000000  5916.000000\n",
              "mean            2.852545                  0.469274  ...     0.517241  3699.003888\n",
              "std             9.559954                  0.203990  ...     0.499745  2132.447652\n",
              "min             0.000000                  0.000000  ...     0.000000     4.000000\n",
              "25%             1.600000                  0.342038  ...     0.000000  1860.750000\n",
              "50%             2.086957                  0.484084  ...     1.000000  3703.500000\n",
              "75%             2.622778                  0.616681  ...     1.000000  5539.250000\n",
              "max           363.000000                  1.000000  ...     1.000000  7394.000000\n",
              "\n",
              "[8 rows x 21 columns]"
            ]
          },
          "metadata": {},
          "execution_count": 7
        }
      ]
    },
    {
      "cell_type": "markdown",
      "metadata": {
        "id": "Mh5ZjzRpvt7E"
      },
      "source": [
        "##Language Preprocessing"
      ]
    },
    {
      "cell_type": "markdown",
      "metadata": {
        "id": "ROMnF_HlHyMD"
      },
      "source": [
        "Extracting Body From json text\n"
      ]
    },
    {
      "cell_type": "code",
      "metadata": {
        "id": "D0ghVJNgkiEf"
      },
      "source": [
        "import json"
      ],
      "execution_count": 8,
      "outputs": []
    },
    {
      "cell_type": "code",
      "metadata": {
        "id": "5sVtQNRf4WrB"
      },
      "source": [
        "web_body_list = []\n",
        "web_title_list = []\n",
        "web_url_list = []\n",
        "for i in range(working_df.shape[0]):\n",
        "  dictionary_json =   json.loads(working_df['webpageDescription'][i])\n",
        "  if('body' in dictionary_json):\n",
        "    if(dictionary_json['body'] is None):\n",
        "      web_body_list.append(\" \")\n",
        "    else:\n",
        "      web_body_list.append(dictionary_json['body'])\n",
        "  else:\n",
        "    web_body_list.append(\" \")\n",
        "\n",
        "  if('title' in dictionary_json):\n",
        "    if(dictionary_json['title'] is None):\n",
        "      web_title_list.append(\" \")\n",
        "    else:\n",
        "      web_title_list.append(dictionary_json['title'])\n",
        "    \n",
        "  else:\n",
        "    web_title_list.append(\" \")\n",
        "\n",
        "  if('url' in dictionary_json):\n",
        "    if(dictionary_json['url'] is None):\n",
        "      web_url_list.append(\" \")\n",
        "    else:\n",
        "      web_url_list.append(dictionary_json['url'])\n",
        "  else:\n",
        "    web_url_list.append(\" \")\n",
        "   "
      ],
      "execution_count": 9,
      "outputs": []
    },
    {
      "cell_type": "code",
      "metadata": {
        "id": "DizppvPjwSU7"
      },
      "source": [
        "web_text_list = []\n",
        "for i in range(working_df.shape[0]):\n",
        "  web_text = web_body_list[i] + \" \" + web_title_list[i] + \" \" + web_url_list[i]\n",
        "  web_text_list.append(web_text)"
      ],
      "execution_count": 10,
      "outputs": []
    },
    {
      "cell_type": "markdown",
      "metadata": {
        "id": "PrRJ4q12NMAW"
      },
      "source": [
        "##Natural Language Processing Techniques on Body Text"
      ]
    },
    {
      "cell_type": "markdown",
      "metadata": {
        "id": "TetR5-TWw6VT"
      },
      "source": [
        "TF-IDF Approach"
      ]
    },
    {
      "cell_type": "code",
      "metadata": {
        "id": "AO-QNikoVQhC"
      },
      "source": [
        "from sklearn.feature_extraction.text import TfidfVectorizer"
      ],
      "execution_count": 11,
      "outputs": []
    },
    {
      "cell_type": "code",
      "metadata": {
        "id": "qj5W5trbWu6c"
      },
      "source": [
        "tv = TfidfVectorizer()"
      ],
      "execution_count": 12,
      "outputs": []
    },
    {
      "cell_type": "code",
      "metadata": {
        "id": "8lekC86UW88c"
      },
      "source": [
        "nlp_X = tv.fit_transform(web_text_list).toarray()"
      ],
      "execution_count": 13,
      "outputs": []
    },
    {
      "cell_type": "code",
      "source": [
        "nlp_X.shape"
      ],
      "metadata": {
        "colab": {
          "base_uri": "https://localhost:8080/"
        },
        "id": "4OeoFVBEFOMw",
        "outputId": "45be7ed0-33a0-4d31-8b43-c60647328063"
      },
      "execution_count": 14,
      "outputs": [
        {
          "output_type": "execute_result",
          "data": {
            "text/plain": [
              "(5916, 80032)"
            ]
          },
          "metadata": {},
          "execution_count": 14
        }
      ]
    },
    {
      "cell_type": "markdown",
      "metadata": {
        "id": "cS-DVaYaoLA7"
      },
      "source": [
        "##Splitting the Data"
      ]
    },
    {
      "cell_type": "code",
      "metadata": {
        "id": "Ip1Q3fgeoAKF"
      },
      "source": [
        "train_Y = working_df[\"label\"].to_numpy().astype(np.float64)"
      ],
      "execution_count": 15,
      "outputs": []
    },
    {
      "cell_type": "markdown",
      "metadata": {
        "id": "hlBPdBxposKs"
      },
      "source": [
        "##Modeling"
      ]
    },
    {
      "cell_type": "code",
      "metadata": {
        "id": "rqmgS_lvotHK"
      },
      "source": [
        "# scores = cross_val_score(MultinomialNB(alpha = 0.45),nlp_X,train_Y, scoring = 'roc_auc')\n",
        "# print(scores)\n",
        "# print(np.mean(scores))"
      ],
      "execution_count": null,
      "outputs": []
    },
    {
      "cell_type": "markdown",
      "metadata": {
        "id": "gKJeiokzCrtb"
      },
      "source": [
        "LogisticRegression"
      ]
    },
    {
      "cell_type": "code",
      "metadata": {
        "id": "kwUZ9x72azmC"
      },
      "source": [
        "log_reg_model = LogisticRegression(solver = 'liblinear')"
      ],
      "execution_count": 17,
      "outputs": []
    },
    {
      "cell_type": "code",
      "metadata": {
        "id": "_PyUlql_a4Hk",
        "colab": {
          "base_uri": "https://localhost:8080/"
        },
        "outputId": "6473f5d7-0598-438d-9802-006bba97d583"
      },
      "source": [
        "log_reg_model.fit(nlp_X,train_Y)"
      ],
      "execution_count": 18,
      "outputs": [
        {
          "output_type": "execute_result",
          "data": {
            "text/plain": [
              "LogisticRegression(solver='liblinear')"
            ]
          },
          "metadata": {},
          "execution_count": 18
        }
      ]
    },
    {
      "cell_type": "code",
      "metadata": {
        "id": "o4pAVR62a8dX"
      },
      "source": [
        "pred_log_reg =log_reg_model.predict_proba(nlp_X).T[1]"
      ],
      "execution_count": 19,
      "outputs": []
    },
    {
      "cell_type": "code",
      "metadata": {
        "id": "PjiaeHn0bC0U",
        "colab": {
          "base_uri": "https://localhost:8080/"
        },
        "outputId": "8e4ce273-58c9-4cf8-af92-1cd903a6b5a4"
      },
      "source": [
        "roc_auc_score(train_Y,pred_log_reg)"
      ],
      "execution_count": 20,
      "outputs": [
        {
          "output_type": "execute_result",
          "data": {
            "text/plain": [
              "0.9468211631057653"
            ]
          },
          "metadata": {},
          "execution_count": 20
        }
      ]
    },
    {
      "cell_type": "markdown",
      "metadata": {
        "id": "CMjHsZ83CviB"
      },
      "source": [
        "Multinomial Naive Bayes"
      ]
    },
    {
      "cell_type": "code",
      "metadata": {
        "id": "VsXXK3IqZJOO"
      },
      "source": [
        "multinomialNB_model = MultinomialNB(alpha = 0.45)"
      ],
      "execution_count": 21,
      "outputs": []
    },
    {
      "cell_type": "code",
      "metadata": {
        "id": "vbeQUxN_UYs6",
        "colab": {
          "base_uri": "https://localhost:8080/"
        },
        "outputId": "b2b99bff-7d63-4c40-b17f-53bee0b9a693"
      },
      "source": [
        "multinomialNB_model.fit(nlp_X,train_Y)"
      ],
      "execution_count": 22,
      "outputs": [
        {
          "output_type": "execute_result",
          "data": {
            "text/plain": [
              "MultinomialNB(alpha=0.45)"
            ]
          },
          "metadata": {},
          "execution_count": 22
        }
      ]
    },
    {
      "cell_type": "code",
      "metadata": {
        "id": "idyEn_sfUgcu"
      },
      "source": [
        "pred_multiNB = multinomialNB_model.predict_proba(nlp_X).T[1]"
      ],
      "execution_count": 23,
      "outputs": []
    },
    {
      "cell_type": "code",
      "metadata": {
        "id": "s7NPdF5yZTb8",
        "colab": {
          "base_uri": "https://localhost:8080/"
        },
        "outputId": "7ce033ca-bc9e-4f60-cb48-cb691016c409"
      },
      "source": [
        "roc_auc_score(train_Y,pred_multiNB)"
      ],
      "execution_count": 24,
      "outputs": [
        {
          "output_type": "execute_result",
          "data": {
            "text/plain": [
              "0.9324170190952199"
            ]
          },
          "metadata": {},
          "execution_count": 24
        }
      ]
    },
    {
      "cell_type": "markdown",
      "metadata": {
        "id": "cQpObAMopYik"
      },
      "source": [
        "##Testing"
      ]
    },
    {
      "cell_type": "markdown",
      "metadata": {
        "id": "lXifnnxIqg2C"
      },
      "source": [
        "Preprocessing on Test Set"
      ]
    },
    {
      "cell_type": "markdown",
      "metadata": {
        "id": "0yLtu0jTajgJ"
      },
      "source": [
        "###NLP on Test Set"
      ]
    },
    {
      "cell_type": "code",
      "metadata": {
        "id": "JKoTC3weZ5Mw"
      },
      "source": [
        "test_web_body_list = []\n",
        "test_web_title_list = []\n",
        "test_web_url_list = []\n",
        "for i in range(main_test_df.shape[0]):\n",
        "  dictionary_json =   json.loads(main_test_df['webpageDescription'][i])\n",
        "  if('body' in dictionary_json):\n",
        "    if(dictionary_json['body'] is None):\n",
        "      test_web_body_list.append(\" \")\n",
        "    else:\n",
        "      test_web_body_list.append(dictionary_json['body'])\n",
        "  else:\n",
        "    test_web_body_list.append(\" \")\n",
        "\n",
        "  if('title' in dictionary_json):\n",
        "    if(dictionary_json['title'] is None):\n",
        "      test_web_title_list.append(\" \")\n",
        "    else:\n",
        "      test_web_title_list.append(dictionary_json['title'])\n",
        "    \n",
        "  else:\n",
        "   test_web_title_list.append(\" \")\n",
        "\n",
        "  if('url' in dictionary_json):\n",
        "    if(dictionary_json['url'] is None):\n",
        "      test_web_url_list.append(\" \")\n",
        "    else:\n",
        "      test_web_url_list.append(dictionary_json['url'])\n",
        "  else:\n",
        "    test_web_url_list.append(\" \")"
      ],
      "execution_count": 25,
      "outputs": []
    },
    {
      "cell_type": "code",
      "metadata": {
        "id": "tA3pIzfWzzd3"
      },
      "source": [
        "test_web_text_list = []\n",
        "for i in range(main_test_df.shape[0]):\n",
        "  test_web_text = test_web_body_list[i] + \" \" + test_web_title_list[i] + \" \" + test_web_url_list[i]\n",
        "  test_web_text_list.append(test_web_text)"
      ],
      "execution_count": 26,
      "outputs": []
    },
    {
      "cell_type": "code",
      "metadata": {
        "id": "N-m_wasKbjTg"
      },
      "source": [
        "nlp_test_X = tv.transform(test_web_text_list).toarray()"
      ],
      "execution_count": 27,
      "outputs": []
    },
    {
      "cell_type": "code",
      "metadata": {
        "id": "HVtK7gFnqv97"
      },
      "source": [
        "final_Ytest = (2*log_reg_model.predict_proba(nlp_test_X).T[1] + multinomialNB_model.predict_proba(nlp_test_X).T[1])/3"
      ],
      "execution_count": 52,
      "outputs": []
    },
    {
      "cell_type": "code",
      "metadata": {
        "id": "_fTP8zBIq-9d",
        "colab": {
          "base_uri": "https://localhost:8080/"
        },
        "outputId": "1f75c967-5d68-408e-918f-273802a55c73"
      },
      "source": [
        "final_Ytest.sum()"
      ],
      "execution_count": 53,
      "outputs": [
        {
          "output_type": "execute_result",
          "data": {
            "text/plain": [
              "772.6179318406614"
            ]
          },
          "metadata": {},
          "execution_count": 53
        }
      ]
    },
    {
      "cell_type": "markdown",
      "metadata": {
        "id": "2BVX3PVlrBWS"
      },
      "source": [
        "##Preparation For Submission"
      ]
    },
    {
      "cell_type": "code",
      "metadata": {
        "id": "Z6nSKHYmq_qp"
      },
      "source": [
        "submission = pd.read_csv(\"/content/drive/MyDrive/ML/ML_Project/datasets/sample_submission.csv\")"
      ],
      "execution_count": 37,
      "outputs": []
    },
    {
      "cell_type": "code",
      "metadata": {
        "id": "_Xlinv1orVga",
        "colab": {
          "base_uri": "https://localhost:8080/",
          "height": 206
        },
        "outputId": "f694cc38-106f-4555-c500-8c75adc7f9de"
      },
      "source": [
        "submission.head()"
      ],
      "execution_count": 38,
      "outputs": [
        {
          "output_type": "execute_result",
          "data": {
            "text/html": [
              "\n",
              "  <div id=\"df-fd7e980c-ec55-4a08-bb0c-7d833b6bef58\">\n",
              "    <div class=\"colab-df-container\">\n",
              "      <div>\n",
              "<style scoped>\n",
              "    .dataframe tbody tr th:only-of-type {\n",
              "        vertical-align: middle;\n",
              "    }\n",
              "\n",
              "    .dataframe tbody tr th {\n",
              "        vertical-align: top;\n",
              "    }\n",
              "\n",
              "    .dataframe thead th {\n",
              "        text-align: right;\n",
              "    }\n",
              "</style>\n",
              "<table border=\"1\" class=\"dataframe\">\n",
              "  <thead>\n",
              "    <tr style=\"text-align: right;\">\n",
              "      <th></th>\n",
              "      <th>id</th>\n",
              "      <th>label</th>\n",
              "    </tr>\n",
              "  </thead>\n",
              "  <tbody>\n",
              "    <tr>\n",
              "      <th>0</th>\n",
              "      <td>7172</td>\n",
              "      <td>0.597802</td>\n",
              "    </tr>\n",
              "    <tr>\n",
              "      <th>1</th>\n",
              "      <td>2687</td>\n",
              "      <td>0.177493</td>\n",
              "    </tr>\n",
              "    <tr>\n",
              "      <th>2</th>\n",
              "      <td>6990</td>\n",
              "      <td>0.619266</td>\n",
              "    </tr>\n",
              "    <tr>\n",
              "      <th>3</th>\n",
              "      <td>5639</td>\n",
              "      <td>0.868449</td>\n",
              "    </tr>\n",
              "    <tr>\n",
              "      <th>4</th>\n",
              "      <td>2701</td>\n",
              "      <td>0.341868</td>\n",
              "    </tr>\n",
              "  </tbody>\n",
              "</table>\n",
              "</div>\n",
              "      <button class=\"colab-df-convert\" onclick=\"convertToInteractive('df-fd7e980c-ec55-4a08-bb0c-7d833b6bef58')\"\n",
              "              title=\"Convert this dataframe to an interactive table.\"\n",
              "              style=\"display:none;\">\n",
              "        \n",
              "  <svg xmlns=\"http://www.w3.org/2000/svg\" height=\"24px\"viewBox=\"0 0 24 24\"\n",
              "       width=\"24px\">\n",
              "    <path d=\"M0 0h24v24H0V0z\" fill=\"none\"/>\n",
              "    <path d=\"M18.56 5.44l.94 2.06.94-2.06 2.06-.94-2.06-.94-.94-2.06-.94 2.06-2.06.94zm-11 1L8.5 8.5l.94-2.06 2.06-.94-2.06-.94L8.5 2.5l-.94 2.06-2.06.94zm10 10l.94 2.06.94-2.06 2.06-.94-2.06-.94-.94-2.06-.94 2.06-2.06.94z\"/><path d=\"M17.41 7.96l-1.37-1.37c-.4-.4-.92-.59-1.43-.59-.52 0-1.04.2-1.43.59L10.3 9.45l-7.72 7.72c-.78.78-.78 2.05 0 2.83L4 21.41c.39.39.9.59 1.41.59.51 0 1.02-.2 1.41-.59l7.78-7.78 2.81-2.81c.8-.78.8-2.07 0-2.86zM5.41 20L4 18.59l7.72-7.72 1.47 1.35L5.41 20z\"/>\n",
              "  </svg>\n",
              "      </button>\n",
              "      \n",
              "  <style>\n",
              "    .colab-df-container {\n",
              "      display:flex;\n",
              "      flex-wrap:wrap;\n",
              "      gap: 12px;\n",
              "    }\n",
              "\n",
              "    .colab-df-convert {\n",
              "      background-color: #E8F0FE;\n",
              "      border: none;\n",
              "      border-radius: 50%;\n",
              "      cursor: pointer;\n",
              "      display: none;\n",
              "      fill: #1967D2;\n",
              "      height: 32px;\n",
              "      padding: 0 0 0 0;\n",
              "      width: 32px;\n",
              "    }\n",
              "\n",
              "    .colab-df-convert:hover {\n",
              "      background-color: #E2EBFA;\n",
              "      box-shadow: 0px 1px 2px rgba(60, 64, 67, 0.3), 0px 1px 3px 1px rgba(60, 64, 67, 0.15);\n",
              "      fill: #174EA6;\n",
              "    }\n",
              "\n",
              "    [theme=dark] .colab-df-convert {\n",
              "      background-color: #3B4455;\n",
              "      fill: #D2E3FC;\n",
              "    }\n",
              "\n",
              "    [theme=dark] .colab-df-convert:hover {\n",
              "      background-color: #434B5C;\n",
              "      box-shadow: 0px 1px 3px 1px rgba(0, 0, 0, 0.15);\n",
              "      filter: drop-shadow(0px 1px 2px rgba(0, 0, 0, 0.3));\n",
              "      fill: #FFFFFF;\n",
              "    }\n",
              "  </style>\n",
              "\n",
              "      <script>\n",
              "        const buttonEl =\n",
              "          document.querySelector('#df-fd7e980c-ec55-4a08-bb0c-7d833b6bef58 button.colab-df-convert');\n",
              "        buttonEl.style.display =\n",
              "          google.colab.kernel.accessAllowed ? 'block' : 'none';\n",
              "\n",
              "        async function convertToInteractive(key) {\n",
              "          const element = document.querySelector('#df-fd7e980c-ec55-4a08-bb0c-7d833b6bef58');\n",
              "          const dataTable =\n",
              "            await google.colab.kernel.invokeFunction('convertToInteractive',\n",
              "                                                     [key], {});\n",
              "          if (!dataTable) return;\n",
              "\n",
              "          const docLinkHtml = 'Like what you see? Visit the ' +\n",
              "            '<a target=\"_blank\" href=https://colab.research.google.com/notebooks/data_table.ipynb>data table notebook</a>'\n",
              "            + ' to learn more about interactive tables.';\n",
              "          element.innerHTML = '';\n",
              "          dataTable['output_type'] = 'display_data';\n",
              "          await google.colab.output.renderOutput(dataTable, element);\n",
              "          const docLink = document.createElement('div');\n",
              "          docLink.innerHTML = docLinkHtml;\n",
              "          element.appendChild(docLink);\n",
              "        }\n",
              "      </script>\n",
              "    </div>\n",
              "  </div>\n",
              "  "
            ],
            "text/plain": [
              "     id     label\n",
              "0  7172  0.597802\n",
              "1  2687  0.177493\n",
              "2  6990  0.619266\n",
              "3  5639  0.868449\n",
              "4  2701  0.341868"
            ]
          },
          "metadata": {},
          "execution_count": 38
        }
      ]
    },
    {
      "cell_type": "code",
      "metadata": {
        "id": "L827sGForbzz"
      },
      "source": [
        "submission[\"label\"] = final_Ytest"
      ],
      "execution_count": 48,
      "outputs": []
    },
    {
      "cell_type": "code",
      "metadata": {
        "id": "ag8CeTDfrevU",
        "colab": {
          "base_uri": "https://localhost:8080/",
          "height": 206
        },
        "outputId": "c0089f72-9715-48db-8064-ae443bd9e6b3"
      },
      "source": [
        "submission.head()"
      ],
      "execution_count": 40,
      "outputs": [
        {
          "output_type": "execute_result",
          "data": {
            "text/html": [
              "\n",
              "  <div id=\"df-33a8ace7-3d46-4243-805e-d033d2d5b804\">\n",
              "    <div class=\"colab-df-container\">\n",
              "      <div>\n",
              "<style scoped>\n",
              "    .dataframe tbody tr th:only-of-type {\n",
              "        vertical-align: middle;\n",
              "    }\n",
              "\n",
              "    .dataframe tbody tr th {\n",
              "        vertical-align: top;\n",
              "    }\n",
              "\n",
              "    .dataframe thead th {\n",
              "        text-align: right;\n",
              "    }\n",
              "</style>\n",
              "<table border=\"1\" class=\"dataframe\">\n",
              "  <thead>\n",
              "    <tr style=\"text-align: right;\">\n",
              "      <th></th>\n",
              "      <th>id</th>\n",
              "      <th>label</th>\n",
              "    </tr>\n",
              "  </thead>\n",
              "  <tbody>\n",
              "    <tr>\n",
              "      <th>0</th>\n",
              "      <td>7172</td>\n",
              "      <td>0.368879</td>\n",
              "    </tr>\n",
              "    <tr>\n",
              "      <th>1</th>\n",
              "      <td>2687</td>\n",
              "      <td>0.860622</td>\n",
              "    </tr>\n",
              "    <tr>\n",
              "      <th>2</th>\n",
              "      <td>6990</td>\n",
              "      <td>0.969373</td>\n",
              "    </tr>\n",
              "    <tr>\n",
              "      <th>3</th>\n",
              "      <td>5639</td>\n",
              "      <td>0.511303</td>\n",
              "    </tr>\n",
              "    <tr>\n",
              "      <th>4</th>\n",
              "      <td>2701</td>\n",
              "      <td>0.283147</td>\n",
              "    </tr>\n",
              "  </tbody>\n",
              "</table>\n",
              "</div>\n",
              "      <button class=\"colab-df-convert\" onclick=\"convertToInteractive('df-33a8ace7-3d46-4243-805e-d033d2d5b804')\"\n",
              "              title=\"Convert this dataframe to an interactive table.\"\n",
              "              style=\"display:none;\">\n",
              "        \n",
              "  <svg xmlns=\"http://www.w3.org/2000/svg\" height=\"24px\"viewBox=\"0 0 24 24\"\n",
              "       width=\"24px\">\n",
              "    <path d=\"M0 0h24v24H0V0z\" fill=\"none\"/>\n",
              "    <path d=\"M18.56 5.44l.94 2.06.94-2.06 2.06-.94-2.06-.94-.94-2.06-.94 2.06-2.06.94zm-11 1L8.5 8.5l.94-2.06 2.06-.94-2.06-.94L8.5 2.5l-.94 2.06-2.06.94zm10 10l.94 2.06.94-2.06 2.06-.94-2.06-.94-.94-2.06-.94 2.06-2.06.94z\"/><path d=\"M17.41 7.96l-1.37-1.37c-.4-.4-.92-.59-1.43-.59-.52 0-1.04.2-1.43.59L10.3 9.45l-7.72 7.72c-.78.78-.78 2.05 0 2.83L4 21.41c.39.39.9.59 1.41.59.51 0 1.02-.2 1.41-.59l7.78-7.78 2.81-2.81c.8-.78.8-2.07 0-2.86zM5.41 20L4 18.59l7.72-7.72 1.47 1.35L5.41 20z\"/>\n",
              "  </svg>\n",
              "      </button>\n",
              "      \n",
              "  <style>\n",
              "    .colab-df-container {\n",
              "      display:flex;\n",
              "      flex-wrap:wrap;\n",
              "      gap: 12px;\n",
              "    }\n",
              "\n",
              "    .colab-df-convert {\n",
              "      background-color: #E8F0FE;\n",
              "      border: none;\n",
              "      border-radius: 50%;\n",
              "      cursor: pointer;\n",
              "      display: none;\n",
              "      fill: #1967D2;\n",
              "      height: 32px;\n",
              "      padding: 0 0 0 0;\n",
              "      width: 32px;\n",
              "    }\n",
              "\n",
              "    .colab-df-convert:hover {\n",
              "      background-color: #E2EBFA;\n",
              "      box-shadow: 0px 1px 2px rgba(60, 64, 67, 0.3), 0px 1px 3px 1px rgba(60, 64, 67, 0.15);\n",
              "      fill: #174EA6;\n",
              "    }\n",
              "\n",
              "    [theme=dark] .colab-df-convert {\n",
              "      background-color: #3B4455;\n",
              "      fill: #D2E3FC;\n",
              "    }\n",
              "\n",
              "    [theme=dark] .colab-df-convert:hover {\n",
              "      background-color: #434B5C;\n",
              "      box-shadow: 0px 1px 3px 1px rgba(0, 0, 0, 0.15);\n",
              "      filter: drop-shadow(0px 1px 2px rgba(0, 0, 0, 0.3));\n",
              "      fill: #FFFFFF;\n",
              "    }\n",
              "  </style>\n",
              "\n",
              "      <script>\n",
              "        const buttonEl =\n",
              "          document.querySelector('#df-33a8ace7-3d46-4243-805e-d033d2d5b804 button.colab-df-convert');\n",
              "        buttonEl.style.display =\n",
              "          google.colab.kernel.accessAllowed ? 'block' : 'none';\n",
              "\n",
              "        async function convertToInteractive(key) {\n",
              "          const element = document.querySelector('#df-33a8ace7-3d46-4243-805e-d033d2d5b804');\n",
              "          const dataTable =\n",
              "            await google.colab.kernel.invokeFunction('convertToInteractive',\n",
              "                                                     [key], {});\n",
              "          if (!dataTable) return;\n",
              "\n",
              "          const docLinkHtml = 'Like what you see? Visit the ' +\n",
              "            '<a target=\"_blank\" href=https://colab.research.google.com/notebooks/data_table.ipynb>data table notebook</a>'\n",
              "            + ' to learn more about interactive tables.';\n",
              "          element.innerHTML = '';\n",
              "          dataTable['output_type'] = 'display_data';\n",
              "          await google.colab.output.renderOutput(dataTable, element);\n",
              "          const docLink = document.createElement('div');\n",
              "          docLink.innerHTML = docLinkHtml;\n",
              "          element.appendChild(docLink);\n",
              "        }\n",
              "      </script>\n",
              "    </div>\n",
              "  </div>\n",
              "  "
            ],
            "text/plain": [
              "     id     label\n",
              "0  7172  0.368879\n",
              "1  2687  0.860622\n",
              "2  6990  0.969373\n",
              "3  5639  0.511303\n",
              "4  2701  0.283147"
            ]
          },
          "metadata": {},
          "execution_count": 40
        }
      ]
    },
    {
      "cell_type": "code",
      "metadata": {
        "id": "ROpt9uUXrkKw"
      },
      "source": [
        "submission.to_csv(\"/content/drive/MyDrive/ML/ML_Project/Submissions/submission1.csv\",index = False)"
      ],
      "execution_count": 49,
      "outputs": []
    }
  ]
}